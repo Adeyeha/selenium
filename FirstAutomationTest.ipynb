{
 "cells": [
  {
   "cell_type": "code",
   "execution_count": 16,
   "metadata": {},
   "outputs": [],
   "source": [
    "import random"
   ]
  },
  {
   "cell_type": "code",
   "execution_count": 17,
   "metadata": {},
   "outputs": [
    {
     "data": {
      "text/plain": [
       "1"
      ]
     },
     "execution_count": 17,
     "metadata": {},
     "output_type": "execute_result"
    }
   ],
   "source": [
    "random.randint(1, 2)"
   ]
  },
  {
   "cell_type": "code",
   "execution_count": 2,
   "metadata": {},
   "outputs": [
    {
     "data": {
      "text/html": [
       "<div>\n",
       "<style scoped>\n",
       "    .dataframe tbody tr th:only-of-type {\n",
       "        vertical-align: middle;\n",
       "    }\n",
       "\n",
       "    .dataframe tbody tr th {\n",
       "        vertical-align: top;\n",
       "    }\n",
       "\n",
       "    .dataframe thead th {\n",
       "        text-align: right;\n",
       "    }\n",
       "</style>\n",
       "<table border=\"1\" class=\"dataframe\">\n",
       "  <thead>\n",
       "    <tr style=\"text-align: right;\">\n",
       "      <th></th>\n",
       "      <th>description</th>\n",
       "      <th>letter_count</th>\n",
       "      <th>Name</th>\n",
       "      <th>Country</th>\n",
       "    </tr>\n",
       "  </thead>\n",
       "  <tbody>\n",
       "    <tr>\n",
       "      <th>0</th>\n",
       "      <td>Hi everyone, my name is Stella from Nigeria. I...</td>\n",
       "      <td>350</td>\n",
       "      <td>Stella</td>\n",
       "      <td>Nigeria</td>\n",
       "    </tr>\n",
       "    <tr>\n",
       "      <th>1</th>\n",
       "      <td>Hello, fellow bookworms! I'm Penelope, an ecce...</td>\n",
       "      <td>334</td>\n",
       "      <td>Penlope</td>\n",
       "      <td>England</td>\n",
       "    </tr>\n",
       "    <tr>\n",
       "      <th>2</th>\n",
       "      <td>Hi, everyone! I'm Rajiv, a tech guru hailing f...</td>\n",
       "      <td>364</td>\n",
       "      <td>Rajiv</td>\n",
       "      <td>India</td>\n",
       "    </tr>\n",
       "    <tr>\n",
       "      <th>3</th>\n",
       "      <td>Hey, folks! I'm Evie, a nature-loving wildlife...</td>\n",
       "      <td>310</td>\n",
       "      <td>Evie</td>\n",
       "      <td>England</td>\n",
       "    </tr>\n",
       "    <tr>\n",
       "      <th>4</th>\n",
       "      <td>Namaste, friends! I'm Aisha, a passionate wild...</td>\n",
       "      <td>346</td>\n",
       "      <td>Aisha</td>\n",
       "      <td>Kenya</td>\n",
       "    </tr>\n",
       "    <tr>\n",
       "      <th>5</th>\n",
       "      <td>Greetings, everyone! I go by the name Maxine, ...</td>\n",
       "      <td>282</td>\n",
       "      <td>Maxine</td>\n",
       "      <td>England</td>\n",
       "    </tr>\n",
       "    <tr>\n",
       "      <th>6</th>\n",
       "      <td>Hello all, I'm Aurora, a student of Newcastle ...</td>\n",
       "      <td>290</td>\n",
       "      <td>Aurora</td>\n",
       "      <td>Romania</td>\n",
       "    </tr>\n",
       "    <tr>\n",
       "      <th>7</th>\n",
       "      <td>Hello, everyone! I'm Sakura, a talented sushi ...</td>\n",
       "      <td>359</td>\n",
       "      <td>Sakura</td>\n",
       "      <td>Tokyo</td>\n",
       "    </tr>\n",
       "    <tr>\n",
       "      <th>8</th>\n",
       "      <td>Hi everyone, my name is Sunny, and I live here...</td>\n",
       "      <td>360</td>\n",
       "      <td>Sunny</td>\n",
       "      <td>Nigeria</td>\n",
       "    </tr>\n",
       "    <tr>\n",
       "      <th>9</th>\n",
       "      <td>Hey there,  I'm Isabella, a student and dancer...</td>\n",
       "      <td>381</td>\n",
       "      <td>Isabella</td>\n",
       "      <td>Nigeria</td>\n",
       "    </tr>\n",
       "    <tr>\n",
       "      <th>10</th>\n",
       "      <td>Hello guyz, I am Temitope an African by origin...</td>\n",
       "      <td>400</td>\n",
       "      <td>Temitope</td>\n",
       "      <td>Nigeria</td>\n",
       "    </tr>\n",
       "    <tr>\n",
       "      <th>11</th>\n",
       "      <td>Hello, I'm Oscar, an aspiring filmmaker from t...</td>\n",
       "      <td>390</td>\n",
       "      <td>Oscar</td>\n",
       "      <td>England</td>\n",
       "    </tr>\n",
       "  </tbody>\n",
       "</table>\n",
       "</div>"
      ],
      "text/plain": [
       "                                          description  letter_count      Name  \\\n",
       "0   Hi everyone, my name is Stella from Nigeria. I...           350    Stella   \n",
       "1   Hello, fellow bookworms! I'm Penelope, an ecce...           334   Penlope   \n",
       "2   Hi, everyone! I'm Rajiv, a tech guru hailing f...           364     Rajiv   \n",
       "3   Hey, folks! I'm Evie, a nature-loving wildlife...           310      Evie   \n",
       "4   Namaste, friends! I'm Aisha, a passionate wild...           346     Aisha   \n",
       "5   Greetings, everyone! I go by the name Maxine, ...           282    Maxine   \n",
       "6   Hello all, I'm Aurora, a student of Newcastle ...           290    Aurora   \n",
       "7   Hello, everyone! I'm Sakura, a talented sushi ...           359    Sakura   \n",
       "8   Hi everyone, my name is Sunny, and I live here...           360     Sunny   \n",
       "9   Hey there,  I'm Isabella, a student and dancer...           381  Isabella   \n",
       "10  Hello guyz, I am Temitope an African by origin...           400  Temitope   \n",
       "11  Hello, I'm Oscar, an aspiring filmmaker from t...           390     Oscar   \n",
       "\n",
       "    Country  \n",
       "0   Nigeria  \n",
       "1   England  \n",
       "2     India  \n",
       "3   England  \n",
       "4     Kenya  \n",
       "5   England  \n",
       "6   Romania  \n",
       "7     Tokyo  \n",
       "8   Nigeria  \n",
       "9   Nigeria  \n",
       "10  Nigeria  \n",
       "11  England  "
      ]
     },
     "execution_count": 2,
     "metadata": {},
     "output_type": "execute_result"
    }
   ],
   "source": [
    "import pandas as pd\n",
    "pd.read_excel(\"fowosere.xlsx\")"
   ]
  }
 ],
 "metadata": {
  "kernelspec": {
   "display_name": ".venv",
   "language": "python",
   "name": "python3"
  },
  "language_info": {
   "codemirror_mode": {
    "name": "ipython",
    "version": 3
   },
   "file_extension": ".py",
   "mimetype": "text/x-python",
   "name": "python",
   "nbconvert_exporter": "python",
   "pygments_lexer": "ipython3",
   "version": "3.10.10"
  },
  "orig_nbformat": 4
 },
 "nbformat": 4,
 "nbformat_minor": 2
}
